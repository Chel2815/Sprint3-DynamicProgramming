{
  "nbformat": 4,
  "nbformat_minor": 0,
  "metadata": {
    "colab": {
      "provenance": []
    },
    "kernelspec": {
      "name": "python3",
      "display_name": "Python 3"
    },
    "language_info": {
      "name": "python"
    }
  },
  "cells": [
    {
      "cell_type": "code",
      "source": [
        "from collections import deque"
      ],
      "metadata": {
        "id": "hD8jmCMsNR0y"
      },
      "execution_count": 23,
      "outputs": []
    },
    {
      "cell_type": "code",
      "source": [
        "#Classe Insumo\n",
        "\n",
        "class Insumo:\n",
        "    def __init__(self, nome, quantidade, validade):\n",
        "        self.nome = nome\n",
        "        self.quantidade = quantidade\n",
        "        self.validade = validade  # Usando o formato YYYY-MM-DD\n",
        "\n",
        "    def __repr__(self):\n",
        "        return f\"{self.nome} (Qtd: {self.quantidade}, Validade: {self.validade})\""
      ],
      "metadata": {
        "id": "6Cvm7E_0tbgg"
      },
      "execution_count": 24,
      "outputs": []
    },
    {
      "cell_type": "code",
      "source": [
        "#Fila e Pilha\n",
        "\n",
        "class Consumo:\n",
        "    def __init__(self):\n",
        "        self.fila = deque()\n",
        "        self.pilha = []\n",
        "\n",
        "    def registrar_consumo(self, insumo):\n",
        "        self.fila.append(insumo)\n",
        "        self.pilha.append(insumo)\n",
        "\n",
        "    def mostrar_fila(self):\n",
        "        return list(self.fila)\n",
        "\n",
        "    def mostrar_pilha(self):\n",
        "        return list(reversed(self.pilha))"
      ],
      "metadata": {
        "id": "uPgRXbHNtL6B"
      },
      "execution_count": 25,
      "outputs": []
    },
    {
      "cell_type": "code",
      "source": [
        "#Busca Sequencial\n",
        "\n",
        "def busca_sequencial(lista, nome):\n",
        "    for item in lista:\n",
        "        if item.nome == nome:\n",
        "            return item\n",
        "    return None\n",
        "\n"
      ],
      "metadata": {
        "id": "Pkg6O3AotgQ4"
      },
      "execution_count": 26,
      "outputs": []
    },
    {
      "cell_type": "code",
      "source": [
        "#Busca Binária\n",
        "\n",
        "def busca_binaria(lista, nome):\n",
        "    inicio, fim = 0, len(lista) - 1\n",
        "    while inicio <= fim:\n",
        "        meio = (inicio + fim) // 2\n",
        "        if lista[meio].nome == nome:\n",
        "            return lista[meio]\n",
        "        elif lista[meio].nome < nome:\n",
        "            inicio = meio + 1\n",
        "        else:\n",
        "            fim = meio - 1\n",
        "    return None"
      ],
      "metadata": {
        "id": "myrJB3pswLk8"
      },
      "execution_count": 34,
      "outputs": []
    },
    {
      "cell_type": "code",
      "source": [
        "#Algoritmos de Ordenação\n",
        "\n",
        "def merge_sort(lista, chave=lambda x: x):\n",
        "    if len(lista) <= 1:\n",
        "        return lista\n",
        "    meio = len(lista) // 2\n",
        "    esquerda = merge_sort(lista[:meio], chave)\n",
        "    direita = merge_sort(lista[meio:], chave)\n",
        "    return merge(esquerda, direita, chave)\n",
        "\n",
        "def merge(esq, dir, chave):\n",
        "    resultado = []\n",
        "    i = j = 0\n",
        "    while i < len(esq) and j < len(dir):\n",
        "        if chave(esq[i]) <= chave(dir[j]):\n",
        "            resultado.append(esq[i])\n",
        "            i += 1\n",
        "        else:\n",
        "            resultado.append(dir[j])\n",
        "            j += 1\n",
        "    resultado.extend(esq[i:])\n",
        "    resultado.extend(dir[j:])\n",
        "    return resultado\n",
        "\n",
        "\n",
        "def quick_sort(lista, chave=lambda x: x):\n",
        "    if len(lista) <= 1:\n",
        "        return lista\n",
        "    pivo = lista[len(lista) // 2]\n",
        "    menores = [x for x in lista if chave(x) < chave(pivo)]\n",
        "    iguais = [x for x in lista if chave(x) == chave(pivo)]\n",
        "    maiores = [x for x in lista if chave(x) > chave(pivo)]\n",
        "    return quick_sort(menores, chave) + iguais + quick_sort(maiores, chave)"
      ],
      "metadata": {
        "id": "T7cu4OOitgql"
      },
      "execution_count": 28,
      "outputs": []
    },
    {
      "cell_type": "code",
      "source": [
        "#Execução\n",
        "\n",
        "if __name__ == \"__main__\":\n",
        "    consumo = Consumo()\n",
        "\n",
        "    consumo.registrar_consumo(Insumo(\"Reagente A\", 10, \"2024-06-12\"))\n",
        "    consumo.registrar_consumo(Insumo(\"Reagente B\", 5, \"2024-06-15\"))\n",
        "    consumo.registrar_consumo(Insumo(\"Reagente C\", 50, \"2024-05-21\"))\n",
        "    consumo.registrar_consumo(Insumo(\"Reagente D\", 8, \"2023-03-05\"))\n",
        "\n",
        "    print(\"Consumo em ordem cronológica (Fila):\")\n",
        "    print(consumo.mostrar_fila())\n",
        "\n",
        "    print(\"Consultas em ordem inversa (Pilha):\")\n",
        "    print(consumo.mostrar_pilha())\n",
        "\n",
        "    #LIsta dos Insumos e Reagentes\n",
        "    lista_insumos = consumo.mostrar_fila()\n",
        "\n",
        "    print(\"Busca Sequencial por 'Reagente B':\")\n",
        "    print(busca_sequencial(lista_insumos, \"Reagente B\"))\n",
        "\n",
        "    print(\"Busca Binária por 'Reagente C' (lista precisa estar ordenada por nome):\")\n",
        "    lista_ordenada_nome = merge_sort(lista_insumos, chave=lambda x: x.nome)\n",
        "    print(busca_binaria(lista_ordenada_nome, \"Reagente C\"))\n",
        "\n",
        "    print(\"Ordenação por quantidade (Merge Sort):\")\n",
        "    print(merge_sort(lista_insumos, chave=lambda x: x.quantidade))\n",
        "\n",
        "    print(\"Ordenação por validade (Quick Sort):\")\n",
        "    print(quick_sort(lista_insumos, chave=lambda x: x.validade))"
      ],
      "metadata": {
        "colab": {
          "base_uri": "https://localhost:8080/"
        },
        "id": "-P5HqAjhthBM",
        "outputId": "408e3b26-e015-4015-94ca-6c4bdf517749"
      },
      "execution_count": 35,
      "outputs": [
        {
          "output_type": "stream",
          "name": "stdout",
          "text": [
            "Consumo em ordem cronológica (Fila):\n",
            "[Reagente A (Qtd: 10, Validade: 2024-06-12), Reagente B (Qtd: 5, Validade: 2024-06-15), Reagente C (Qtd: 50, Validade: 2024-05-21), Reagente D (Qtd: 8, Validade: 2023-03-05)]\n",
            "Consultas em ordem inversa (Pilha):\n",
            "[Reagente D (Qtd: 8, Validade: 2023-03-05), Reagente C (Qtd: 50, Validade: 2024-05-21), Reagente B (Qtd: 5, Validade: 2024-06-15), Reagente A (Qtd: 10, Validade: 2024-06-12)]\n",
            "Busca Sequencial por 'Reagente B':\n",
            "Reagente B (Qtd: 5, Validade: 2024-06-15)\n",
            "Busca Binária por 'Reagente C' (lista precisa estar ordenada por nome):\n",
            "Reagente C (Qtd: 50, Validade: 2024-05-21)\n",
            "Ordenação por quantidade (Merge Sort):\n",
            "[Reagente B (Qtd: 5, Validade: 2024-06-15), Reagente D (Qtd: 8, Validade: 2023-03-05), Reagente A (Qtd: 10, Validade: 2024-06-12), Reagente C (Qtd: 50, Validade: 2024-05-21)]\n",
            "Ordenação por validade (Quick Sort):\n",
            "[Reagente D (Qtd: 8, Validade: 2023-03-05), Reagente C (Qtd: 50, Validade: 2024-05-21), Reagente A (Qtd: 10, Validade: 2024-06-12), Reagente B (Qtd: 5, Validade: 2024-06-15)]\n"
          ]
        }
      ]
    },
    {
      "cell_type": "code",
      "source": [],
      "metadata": {
        "id": "rdkvcbTpurLB"
      },
      "execution_count": null,
      "outputs": []
    }
  ]
}